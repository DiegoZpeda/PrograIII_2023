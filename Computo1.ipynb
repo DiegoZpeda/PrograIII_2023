{
  "nbformat": 4,
  "nbformat_minor": 0,
  "metadata": {
    "colab": {
      "provenance": [],
      "include_colab_link": true
    },
    "kernelspec": {
      "name": "python3",
      "display_name": "Python 3"
    },
    "language_info": {
      "name": "python"
    }
  },
  "cells": [
    {
      "cell_type": "markdown",
      "metadata": {
        "id": "view-in-github",
        "colab_type": "text"
      },
      "source": [
        "<a href=\"https://colab.research.google.com/github/DiegoZpeda/PrograIII_2023/blob/main/Computo1.ipynb\" target=\"_parent\"><img src=\"https://colab.research.google.com/assets/colab-badge.svg\" alt=\"Open In Colab\"/></a>"
      ]
    },
    {
      "cell_type": "markdown",
      "source": [
        "# PRACTICA 1 [VIERNES 21/07]"
      ],
      "metadata": {
        "id": "vy94M4oXczab"
      }
    },
    {
      "cell_type": "code",
      "source": [],
      "metadata": {
        "id": "stjQs70xE0HM"
      },
      "execution_count": null,
      "outputs": []
    },
    {
      "cell_type": "markdown",
      "source": [
        "Introduccion a Phyton\n",
        "Declaracion de variables"
      ],
      "metadata": {
        "id": "G9catSp1c4pO"
      }
    },
    {
      "cell_type": "code",
      "source": [
        "saludo = \"Hola mundo\"\n",
        "\n",
        "print(saludo)"
      ],
      "metadata": {
        "id": "f5SPb2nzc-8C"
      },
      "execution_count": null,
      "outputs": []
    },
    {
      "cell_type": "code",
      "source": [
        "num1 = float(input(\"ingresa un numero: \"))\n",
        "num2 = float(input(\"ingresa otro numero: \"))\n",
        "resp = num1 - num2\n",
        "print(\"La resta de \", num1,\" - \", num2,\" = \", resp)"
      ],
      "metadata": {
        "colab": {
          "base_uri": "https://localhost:8080/"
        },
        "id": "kvCuF4czdBPb",
        "outputId": "e6a857ff-55a4-47ca-c628-16473b1d5c09"
      },
      "execution_count": null,
      "outputs": [
        {
          "output_type": "stream",
          "name": "stdout",
          "text": [
            "ingresa un numero: 5\n",
            "ingresa otro numero: 4\n",
            "La resta de  5.0  -  4.0  =  1.0\n"
          ]
        }
      ]
    },
    {
      "cell_type": "code",
      "source": [
        "no"
      ],
      "metadata": {
        "id": "avnX7GqyEG5I"
      },
      "execution_count": null,
      "outputs": []
    },
    {
      "cell_type": "code",
      "source": [
        "name = \"Diego Zepeda\"\n",
        "edad = 19\n",
        "saludo = \"Hola \"+name+\", tu edad \"+str(edad)\n",
        "print(saludo)"
      ],
      "metadata": {
        "id": "mBLNQYNadGcl"
      },
      "execution_count": null,
      "outputs": []
    },
    {
      "cell_type": "code",
      "source": [
        "nombre = input(\"Dime tu nombre: \")\n",
        "edad= input(\"Tu edad: \")\n",
        "saludo= \"Hola que tal \"+nombre+ \", tu edad: \"+edad\n",
        "print(saludo)"
      ],
      "metadata": {
        "id": "BCyr8HiJdK6W"
      },
      "execution_count": null,
      "outputs": []
    },
    {
      "cell_type": "markdown",
      "source": [
        "# PRACTICA 2 [VIERNES 28/07]"
      ],
      "metadata": {
        "id": "CtUAM89zdUTR"
      }
    },
    {
      "cell_type": "markdown",
      "source": [
        "**Funciones de usuario**\n",
        "\n",
        "convertir grados celsius a farenheit"
      ],
      "metadata": {
        "id": "cSCUByEOA_kH"
      }
    },
    {
      "cell_type": "code",
      "source": [
        "def convertir_cel(c):\n",
        "  return c*9/5 + 32\n",
        "  #se puede tambien 32 + c*9/5"
      ],
      "metadata": {
        "id": "AiskglkvBysV"
      },
      "execution_count": null,
      "outputs": []
    },
    {
      "cell_type": "code",
      "execution_count": null,
      "metadata": {
        "colab": {
          "base_uri": "https://localhost:8080/"
        },
        "id": "4UgO2bY_A2u0",
        "outputId": "40561149-881a-49ea-c186-cebb5b1dd54b"
      },
      "outputs": [
        {
          "output_type": "stream",
          "name": "stdout",
          "text": [
            "celsius: 12\n",
            "F:  53.6\n"
          ]
        }
      ],
      "source": [
        "c = float(input(\"celsius: \"))\n",
        "print (\"F: \", convertir_cel(c))"
      ]
    },
    {
      "cell_type": "markdown",
      "source": [
        "**Farenheit a celsius**"
      ],
      "metadata": {
        "id": "4_W6e-luE4Vu"
      }
    },
    {
      "cell_type": "code",
      "source": [
        "def convertir_fa(f):\n",
        "  return (f-32)*5/9"
      ],
      "metadata": {
        "id": "aREVpNuwE_OS"
      },
      "execution_count": null,
      "outputs": []
    },
    {
      "cell_type": "code",
      "source": [
        "f = float(input(\"farenheit: \"))\n",
        "print (\"C: \", convertir_fa(f))"
      ],
      "metadata": {
        "colab": {
          "base_uri": "https://localhost:8080/"
        },
        "id": "F64sBMF2FFLd",
        "outputId": "04e6bd20-1d61-47bf-c8f7-0b50cd3dcdc8"
      },
      "execution_count": null,
      "outputs": [
        {
          "output_type": "stream",
          "name": "stdout",
          "text": [
            "farenheit: 30\n",
            "C:  -1.1111111111111112\n"
          ]
        }
      ]
    },
    {
      "cell_type": "markdown",
      "source": [
        "**Celsius a kelvin**\n"
      ],
      "metadata": {
        "id": "rnEBAkRrGv7I"
      }
    },
    {
      "cell_type": "code",
      "source": [
        "def convertir_kel(k):\n",
        "  return k + 273.15"
      ],
      "metadata": {
        "id": "ljxRGQnAG-zY"
      },
      "execution_count": null,
      "outputs": []
    },
    {
      "cell_type": "code",
      "source": [
        "k = float(input(\"Celsius: \"))\n",
        "print (\"K: \", convertir_kel(k))"
      ],
      "metadata": {
        "colab": {
          "base_uri": "https://localhost:8080/"
        },
        "id": "Km0VTjb7HKX_",
        "outputId": "1f6ae73c-f185-46c4-ecce-23d63e0b6da9"
      },
      "execution_count": null,
      "outputs": [
        {
          "output_type": "stream",
          "name": "stdout",
          "text": [
            "Celsius: 50\n",
            "K:  323.15\n"
          ]
        }
      ]
    },
    {
      "cell_type": "markdown",
      "source": [
        "**Calcular el sueldo de un empleado**"
      ],
      "metadata": {
        "id": "Nwmu9w9hKHMy"
      }
    },
    {
      "cell_type": "code",
      "source": [
        "def sueldo(numHrs, valorXhr):\n",
        "  sueldo = numHrs*valorXhr*30\n",
        "  if(numHrs>8):\n",
        "    sueldo += (numHrs-8)*valorXhr*2*30\n",
        "    #iss + afp 3 + 6.25 = 9.25 = 100 - 9.25 = 90.75/100 = 0.9075\n",
        "  #sueldo = sueldo*0.9075\n",
        "  return sueldo"
      ],
      "metadata": {
        "id": "pAWMjZNFKPsK"
      },
      "execution_count": null,
      "outputs": []
    },
    {
      "cell_type": "code",
      "source": [
        "tabla_isr = [\n",
        "    {0.01, 472,0,0},\n",
        "    [472.01, 895.24, 0.1, 17.67],\n",
        "    [895.25, 2038.1,0.2,60.00],\n",
        "    [2038.1, 9999999, 0.3, 288.57]\n",
        "]"
      ],
      "metadata": {
        "id": "gswjLiChVPQ5"
      },
      "execution_count": null,
      "outputs": []
    },
    {
      "cell_type": "code",
      "source": [
        "def calcularIsr (sueldo, sueldoNeto):\n",
        "  for tramo in tabla_isr:\n",
        "    impsr = 0\n",
        "    if sueldo<tramo[0] and sueldo<=tramo[1]:\n",
        "      impsr = (sueldoNeto - tramo[0])*tramo[2] + tramo[3]\n",
        "  return impsr"
      ],
      "metadata": {
        "id": "iONJsARxXWrJ"
      },
      "execution_count": null,
      "outputs": []
    },
    {
      "cell_type": "code",
      "source": [
        "valorXhr = 4\n",
        "numHrs = float(input(\"Horas Trabajadas: \"))\n",
        "s = sueldo(numHrs, valorXhr)\n",
        "isr = calcularIsr(s, s*0.9075)\n",
        "print(\"sueldo: \",s, \"isr: \", isr, s*0.9075-isr)\n",
        "#print(\"sueldo: \", sueldo(numHrs, valorXhr))"
      ],
      "metadata": {
        "id": "chxEDNUiKtms"
      },
      "execution_count": null,
      "outputs": []
    },
    {
      "cell_type": "markdown",
      "source": [
        "# PRACTICA 3 [VIERNES 11/08]"
      ],
      "metadata": {
        "id": "Qkphf4pwFILu"
      }
    },
    {
      "cell_type": "markdown",
      "source": [
        "**Listas**\n"
      ],
      "metadata": {
        "id": "S1BBZZiKFON7"
      }
    },
    {
      "cell_type": "code",
      "source": [
        "data = [2,5,6,8,9]"
      ],
      "metadata": {
        "id": "dgIGUycWFNxt"
      },
      "execution_count": null,
      "outputs": []
    },
    {
      "cell_type": "code",
      "source": [
        "resp = map(lambda n:n**3,data)\n",
        "print (list(resp))"
      ],
      "metadata": {
        "colab": {
          "base_uri": "https://localhost:8080/"
        },
        "id": "U9ZxcVf9HZoJ",
        "outputId": "af806a6d-1597-442b-a843-2f09a1785c2e"
      },
      "execution_count": null,
      "outputs": [
        {
          "output_type": "stream",
          "name": "stdout",
          "text": [
            "[8, 125, 216, 512, 729]\n"
          ]
        }
      ]
    },
    {
      "cell_type": "markdown",
      "source": [
        "Celsius a Farenheit"
      ],
      "metadata": {
        "id": "n_SrS-dKIrHS"
      }
    },
    {
      "cell_type": "code",
      "source": [
        "data = [2,5,6,8,9]"
      ],
      "metadata": {
        "id": "OOUdd2BHIVjj"
      },
      "execution_count": null,
      "outputs": []
    },
    {
      "cell_type": "code",
      "source": [
        "resp = map(lambda n:n*9/5 + 32,data)\n",
        "print (list(resp))"
      ],
      "metadata": {
        "colab": {
          "base_uri": "https://localhost:8080/"
        },
        "id": "XTvsyrG2IyAa",
        "outputId": "f3bd1b6d-9e42-4689-dcb2-2bf4aae3a9f5"
      },
      "execution_count": null,
      "outputs": [
        {
          "output_type": "stream",
          "name": "stdout",
          "text": [
            "[35.6, 41.0, 42.8, 46.4, 48.2]\n"
          ]
        }
      ]
    },
    {
      "cell_type": "markdown",
      "source": [
        "Usando filter"
      ],
      "metadata": {
        "id": "W6FnGHUJKwTn"
      }
    },
    {
      "cell_type": "code",
      "source": [
        "data = [2,5,6,8,9]"
      ],
      "metadata": {
        "id": "4YgC9PbiKyXQ"
      },
      "execution_count": null,
      "outputs": []
    },
    {
      "cell_type": "code",
      "source": [
        "resp = filter(lambda n:n %2 == 0 ,data)\n",
        "print (list(resp))"
      ],
      "metadata": {
        "colab": {
          "base_uri": "https://localhost:8080/"
        },
        "id": "uHGeAtGHKzvi",
        "outputId": "89b85b0f-323a-48cc-9b60-45a2d179e036"
      },
      "execution_count": null,
      "outputs": [
        {
          "output_type": "stream",
          "name": "stdout",
          "text": [
            "[2, 6, 8]\n"
          ]
        }
      ]
    },
    {
      "cell_type": "code",
      "source": [
        "inp = filter(lambda n:n %2!= 0, data)\n",
        "print (list(inp))"
      ],
      "metadata": {
        "id": "PdWiXqaZLk_L"
      },
      "execution_count": null,
      "outputs": []
    },
    {
      "cell_type": "markdown",
      "source": [
        "**Ciclos**\n",
        "\n",
        "\n",
        "*   For\n",
        "\n"
      ],
      "metadata": {
        "id": "MICz0ZItOW2n"
      }
    },
    {
      "cell_type": "code",
      "source": [
        "for item in data:\n",
        "  print(item)"
      ],
      "metadata": {
        "id": "vcomQT3hOlZT"
      },
      "execution_count": null,
      "outputs": []
    },
    {
      "cell_type": "markdown",
      "source": [
        "While"
      ],
      "metadata": {
        "id": "wDCkYR0hPB0V"
      }
    },
    {
      "cell_type": "code",
      "source": [
        "i=0\n",
        "n = len(data)\n",
        "while i<n:\n",
        "  print(data[i])\n",
        "  i+=1"
      ],
      "metadata": {
        "id": "EF3fVKTAPHEm"
      },
      "execution_count": null,
      "outputs": []
    },
    {
      "cell_type": "markdown",
      "source": [
        "tabla del 7"
      ],
      "metadata": {
        "id": "omDF62kIPyEa"
      }
    },
    {
      "cell_type": "code",
      "source": [
        "n = int(input(\"introdusca la tabla que necesita: \"))\n",
        "for i in range (1,11):\n",
        "  print(n,\"x\", i, \"=\",n*i)"
      ],
      "metadata": {
        "id": "uJEvkJxIPzhA"
      },
      "execution_count": null,
      "outputs": []
    },
    {
      "cell_type": "markdown",
      "source": [
        "### **TAREA EJERCICIOS BASICOS DE PYTHON**"
      ],
      "metadata": {
        "id": "0H7x0SNzDfQy"
      }
    },
    {
      "cell_type": "markdown",
      "source": [
        "1. Calcular sobre el sueldo las deducciones por ley ISSS (3%), AFP(6.25%), ISR(Según tabla) e imprima el total deducciones y sueldo neto. (20%)"
      ],
      "metadata": {
        "id": "jW11P9nrDv9S"
      }
    },
    {
      "cell_type": "code",
      "source": [
        "def sueldo(numHrs, valorXhr):\n",
        "  sueldo = numHrs*valorXhr*30\n",
        "  if(numHrs>8):\n",
        "    sueldo += (numHrs-8)*valorXhr*2*30\n",
        "  return sueldo"
      ],
      "metadata": {
        "id": "_OvhaJ1oDfEB"
      },
      "execution_count": null,
      "outputs": []
    },
    {
      "cell_type": "code",
      "source": [
        "tabla_isr = [\n",
        "    [0.01,472,0,0],\n",
        "    [472.01, 895.24, 0.1, 17.67],\n",
        "    [895.25, 2038.1, 0.2, 60.00],\n",
        "    [2038.11, 9999999, 0.3, 288.57]\n",
        "]"
      ],
      "metadata": {
        "id": "zaZgysygD3dl"
      },
      "execution_count": null,
      "outputs": []
    },
    {
      "cell_type": "code",
      "source": [
        "def calcularIsr(sueldo, sueldoNeto):\n",
        "  impSr=0\n",
        "  for tramo in tabla_isr:\n",
        "    if sueldo>tramo[0] and sueldo<=tramo[1]:\n",
        "      impSr = (sueldoNeto-tramo[0])*tramo[2]+ tramo[3]\n",
        "  return impSr"
      ],
      "metadata": {
        "id": "-ITGbgFxD55_"
      },
      "execution_count": null,
      "outputs": []
    },
    {
      "cell_type": "code",
      "source": [
        "def deducciones():\n",
        "\n",
        "  print(\"Calculadora Deducciones por Ley\"+ \"\\n\")\n",
        "  valorXhr = 4\n",
        "  numHrs = int(input(\"Horas trabajadas: \"+ \"\\n\"))\n",
        "  s = sueldo(numHrs,valorXhr)\n",
        "  isr= calcularIsr(s,s*0.9075)\n",
        "  isss = s*0.03\n",
        "  afp = s*0.0625\n",
        "  print(\"Sueldo: \",str(s) + \"\\n\")\n",
        "  print(\"ISSS: \",str(isss)+ \"\\n\")\n",
        "  print(\"AFP: \",str(afp)+ \"\\n\")\n",
        "  print(\"ISR: \",str(isr) + \"\\n\")\n",
        "  print(\"Sueldo con deducciones aplicadas por ley: \",s-isr-isss-afp)"
      ],
      "metadata": {
        "id": "E06RN49ZD75f"
      },
      "execution_count": null,
      "outputs": []
    },
    {
      "cell_type": "markdown",
      "source": [
        "**2. Calcular el valor a pagar según el número de metros consumidos de agua potable. (20%)**\n"
      ],
      "metadata": {
        "id": "B9q1lVVD0-u7"
      }
    },
    {
      "cell_type": "code",
      "source": [
        "def maPotable():\n",
        "  print(\"\\n\")\n",
        "  print(\"Calculadora de metros consumidos de agua potable\" + \"\\n\")\n",
        "  mtr = int(input(\"Ingrese los metros consumidos: \"))\n",
        "  print(\"\\n\")\n",
        "\n",
        "  pago = 0\n",
        "\n",
        "  if (mtr >= 1 & mtr <=18):\n",
        "    cuota = 6\n",
        "\n",
        "  if (mtr >= 19 & mtr <=28):\n",
        "    cuota = (mtr - 18) * 0.45 + 6\n",
        "\n",
        "  if (mtr >= 29):\n",
        "    exceso = mtr - 28\n",
        "    op1 = exceso * 0.65\n",
        "    op2= 10 * 0.45\n",
        "    cuota =  op1 + op2 + 6\n",
        "\n",
        "  print(\"Metros Consumidos: \",str(mtr) + \"\\n\")\n",
        "  print(\"Valor a pagar : \",str(cuota) + \"\\n\")\n"
      ],
      "metadata": {
        "id": "hS4PQ4Nx0_ST"
      },
      "execution_count": null,
      "outputs": []
    },
    {
      "cell_type": "markdown",
      "source": [
        "**3.DESARROLLE LA TABLA DE MESES ACUMULADOS A N MESES.**"
      ],
      "metadata": {
        "id": "rMu4BSo6GzPa"
      }
    },
    {
      "cell_type": "code",
      "source": [
        "def calcularNmeses():\n",
        "  def meses_acumulados(n):\n",
        "    print(\"\\n\")\n",
        "    print(\"| Meses | Meses Acumulados |\")\n",
        "    print(\"|-------|------------------|\")\n",
        "\n",
        "    total = 0\n",
        "    for i in range(1, n + 1):\n",
        "        total += i\n",
        "\n",
        "        print(f\"|{i} + {total-i:3}| = {total:15}|\")\n",
        "  print(\"\\n\")\n",
        "  meses = int(input(\"Ingrese el número de meses para generar la tabla: \"))\n",
        "  meses_acumulados(meses)\n"
      ],
      "metadata": {
        "id": "Qd3_rTugHC7z"
      },
      "execution_count": null,
      "outputs": []
    },
    {
      "cell_type": "markdown",
      "source": [
        "**4. CONVERSORES**"
      ],
      "metadata": {
        "id": "0d-bh43b1Daa"
      }
    },
    {
      "cell_type": "markdown",
      "source": [
        "Funcion que Contiene Menu de Categorias de Conversores"
      ],
      "metadata": {
        "id": "50AB44A51D9W"
      }
    },
    {
      "cell_type": "code",
      "source": [
        "def menuConversores():\n",
        "  i = 1\n",
        "  while(i == 1):\n",
        "    print(\"\\n\")\n",
        "    print(\"Conversores\")\n",
        "    print(\"1. Monedas\")\n",
        "    print(\"2. Longitud\")\n",
        "    print(\"3. Masa\")\n",
        "    print(\"4. Almacenamiento\")\n",
        "    print(\"5. Tiempo\")\n",
        "    print(\"6. Volumen\")\n",
        "    print(\"7. Area\")\n",
        "    print(\"0-) Regresar\")\n",
        "    op = int(input(\"Elija una categoria: \"))\n",
        "    print(\"\\n\")\n",
        "\n",
        "    if (op==1):\n",
        "      menuMonedas()\n",
        "      i = 1\n",
        "    if (op==2):\n",
        "      menuLongitud()\n",
        "      i = 1\n",
        "    if (op==3):\n",
        "      menuMasa()\n",
        "      i = 1\n",
        "    if (op==4):\n",
        "      menuAlmacen()\n",
        "      i = 1\n",
        "    if (op==5):\n",
        "      menuTiempo()\n",
        "      i = 1\n",
        "    if (op==6):\n",
        "      menuVolumen()\n",
        "      i = 1\n",
        "    if (op==7):\n",
        "      menuArea()\n",
        "      i = 1\n",
        "    if (op==0):\n",
        "      i = 0\n",
        "    if (op >7):\n",
        "      print(\"Opcion no valida\")\n",
        "      input(\"Presiona enter para continuar \"+ \"\\n\")\n",
        "      i = 1\n",
        "\n"
      ],
      "metadata": {
        "id": "xvOBbvh-1GDS"
      },
      "execution_count": null,
      "outputs": []
    },
    {
      "cell_type": "markdown",
      "source": [
        "Funcion que contiene categoria de Monedas"
      ],
      "metadata": {
        "id": "oUOlzlER1KcK"
      }
    },
    {
      "cell_type": "code",
      "source": [
        "def menuMonedas():\n",
        "  m = 1\n",
        "  while(m == 1):\n",
        "\n",
        "    print(\"CONVERSOR DE MONEDAS\")\n",
        "    print(\"1-) Dolares a pesos Chilenos\")\n",
        "    print(\"2-) Pesos chilenos a Dolares\")\n",
        "    print(\"3-) Dolares a Euros\")\n",
        "    print(\"4-) Euros a Dolares\")\n",
        "    print(\"5-) Pesos Mexicanos a Dolares\")\n",
        "    print(\"6-) Dolares a Pesos Mexicanos\")\n",
        "    print(\"7-) Yenes a Dolares\")\n",
        "    print(\"8-) Dolares a Yenes\")\n",
        "    print(\"9-) Yuanes a Dolares\")\n",
        "    print(\"10-) Dolares a Yuanes\")\n",
        "    print(\"0-) Regresar\")\n",
        "    print(\"\")\n",
        "    hl=int(input(\"Elija una opcion \"+ \"\\n\"))\n",
        "    if hl==1:\n",
        "        mon1=int(input(\"Cantidad de Dolares: \"))\n",
        "        v1=mon1*853.2100\n",
        "        print (\"Pesos Chilenos = \", v1)\n",
        "        input(\"Presiona enter para continuar\"+ \"\\n\")\n",
        "        m = 1\n",
        "    if hl==2:\n",
        "        mon2=float(input(\"Cantidad de Pesos Chilenos: \"))\n",
        "        v2=mon2/853.2100\n",
        "        print(\"Dolares = \", v2)\n",
        "        input(\"Presiona enter para continuar\"+ \"\\n\")\n",
        "        m = 1\n",
        "    if hl==3:\n",
        "        mon3=int(input(\"Cantidad de Dolares: \"))\n",
        "        v3=mon3*0.9121\n",
        "        print(\"Euros = \", v3)\n",
        "        input(\"Presiona enter para continuar\"+ \"\\n\")\n",
        "        m = 1\n",
        "    if hl==4:\n",
        "        mon4=int(input(\"Cantidad de Euros: \"))\n",
        "        v4=mon4/0.9121\n",
        "        print(\"Dolares = \", v4)\n",
        "        input(\"Presiona enter para continuar\"+ \"\\n\")\n",
        "        m = 1\n",
        "    if hl==5:\n",
        "        mon5=int(input(\"Cantidad de Pesos Mexicanos: \"))\n",
        "        v5=mon5/17.0129\n",
        "        print(\"Dolares = \", v5)\n",
        "        input(\"Presiona enter para continuar\"+ \"\\n\")\n",
        "        m = 1\n",
        "    if hl==6:\n",
        "        mon6=int(input(\"Cantidad de Dolares: \"))\n",
        "        v6=mon6*17.0129\n",
        "        print(\"Pesos Mexicanos = \", v6)\n",
        "        input(\"Presiona enter para continuar\"+ \"\\n\")\n",
        "        m = 1\n",
        "    if hl==7:\n",
        "        mon7=int(input(\"Cantidad de Yenes \"))\n",
        "        v7=mon7/144.9050\n",
        "        print(\"Dolares = \", v7)\n",
        "        input(\"Presiona enter para continuar\"+ \"\\n\")\n",
        "        m = 1\n",
        "    if hl==8:\n",
        "        mon8=int(input(\"Cantidad de Dolares \"))\n",
        "        v8=mon8*144.9050\n",
        "        print(\"Yenes = \", v8)\n",
        "        input(\"Presiona enter para continuar\"+ \"\\n\")\n",
        "        m = 1\n",
        "    if hl==9:\n",
        "        mon9=int(input(\"Cantidad de Yuanes \"))\n",
        "        v9=mon9/7.2545\n",
        "        print(\"Dolares = \", v9)\n",
        "        input(\"Presiona enter para continuar\"+ \"\\n\")\n",
        "        m = 1\n",
        "    if hl==10:\n",
        "        mon10=int(input(\"Cantidad de Dolares: \"))\n",
        "        v10=mon10*7.2545\n",
        "        print(\"Yuanes = \", v10)\n",
        "        input(\"Presiona enter para continuar\"+ \"\\n\")\n",
        "        m = 1\n",
        "    if hl==0:\n",
        "      m = 0\n",
        "    if (hl!=0 and hl!=1 and hl!=2 and hl!=3 and hl!=4 and hl!=5 and hl!=6 and hl!=7 and hl!=8 and hl!=9 and hl!=10):\n",
        "      print(\"Opcion invalida!\")\n",
        "      input(\"Presiona enter para continuar\"+ \"\\n\")\n",
        "      hl = 1\n"
      ],
      "metadata": {
        "id": "ReBVbDkj1MHP"
      },
      "execution_count": null,
      "outputs": []
    },
    {
      "cell_type": "markdown",
      "source": [
        "Funcion que contiene categoria de Longitud"
      ],
      "metadata": {
        "id": "-haI7R3JocJ2"
      }
    },
    {
      "cell_type": "code",
      "source": [
        "def menuLongitud():\n",
        "  ml = 1\n",
        "  while(ml == 1):\n",
        "    print(\"CONVERSOR DE LONGITUD\")\n",
        "    print(\"1-) Metros a Centimetros\")\n",
        "    print(\"2-) Centimetros a Metros\")\n",
        "    print(\"3-) Metros a Milimetros\")\n",
        "    print(\"4-) Milimetros a Metros\")\n",
        "    print(\"5-) Metros a Kilometros\")\n",
        "    print(\"6-) Kilometros a Metros\")\n",
        "    print(\"7-) Metros a Millas\")\n",
        "    print(\"8-) Millas a Metros\")\n",
        "    print(\"9-) Metro a Pie\")\n",
        "    print(\"10-) Pie a Metro\")\n",
        "    print(\"0-) Regresar\")\n",
        "    print(\"\")\n",
        "    hl=int(input(\"Elija una opcion \"+ \"\\n\"))\n",
        "    if hl==1:\n",
        "        long1=int(input(\"Cantidad de Metros: \"))\n",
        "        v1=long1*100\n",
        "        print (\"Centimetros = \", v1)\n",
        "        input(\"Presiona enter para continuar\"+ \"\\n\")\n",
        "        ml = 1\n",
        "    if hl==2:\n",
        "        long2=float(input(\"Cantidad de Centimetros: \"))\n",
        "        v2=long2/100\n",
        "        print(\"Metros = \", v2)\n",
        "        input(\"Presiona enter para continuar\"+ \"\\n\")\n",
        "        ml = 1\n",
        "    if hl==3:\n",
        "        long3=int(input(\"Cantidad de Metros: \"))\n",
        "        v3=long3*1000\n",
        "        print(\"Milimetros = \", v3)\n",
        "        input(\"Presiona enter para continuar\"+ \"\\n\")\n",
        "        ml = 1\n",
        "    if hl==4:\n",
        "        long4=int(input(\"Cantidad de Milimetros: \"))\n",
        "        v4=long4/1000\n",
        "        print(\"Metros = \", v4)\n",
        "        input(\"Presiona enter para continuar\"+ \"\\n\")\n",
        "        ml = 1\n",
        "    if hl==5:\n",
        "        long5=int(input(\"Cantidad de Metros: \"))\n",
        "        v5=long5/1000\n",
        "        print(\"Kilometros = \", v5)\n",
        "        input(\"Presiona enter para continuar\"+ \"\\n\")\n",
        "        ml = 1\n",
        "    if hl==6:\n",
        "        long6=int(input(\"Cantidad de Kilometros: \"))\n",
        "        v6=long6*1000\n",
        "        print(\"Metros = \", v6)\n",
        "        input(\"Presiona enter para continuar\"+ \"\\n\")\n",
        "        ml = 1\n",
        "    if hl==7:\n",
        "        long7=int(input(\"Cantidad de Metros \"))\n",
        "        v7=long7/1609\n",
        "        print(\"Millas = \", v7)\n",
        "        input(\"Presiona enter para continuar\"+ \"\\n\")\n",
        "        ml = 1\n",
        "    if hl==8:\n",
        "        long8=int(input(\"Cantidad de Millas: \"))\n",
        "        v8=lomg8*1609\n",
        "        print(\"Metros = \", v8)\n",
        "        input(\"Presiona enter para continuar\"+ \"\\n\")\n",
        "        ml = 1\n",
        "    if hl==9:\n",
        "        long9=int(input(\"Cantidad de Mteros: \"))\n",
        "        v9=long9*3.281\n",
        "        print(\"Pies = \", v9)\n",
        "        input(\"Presiona enter para continuar\"+ \"\\n\")\n",
        "        ml = 1\n",
        "    if hl==10:\n",
        "        long10=int(input(\"Cantidad de Pies: \"))\n",
        "        v10=long10/3.281\n",
        "        print(\"Metros = \", v10)\n",
        "        input(\"Presiona enter para continuar\"+ \"\\n\")\n",
        "        ml = 1\n",
        "    if hl==0:\n",
        "        ml = 0\n",
        "    if (hl!=0 and hl!=1 and  hl!=2 and hl!=3 and hl!=4 and hl!=5 and hl!=6 and hl!=7 and hl!=8 and hl!=9 and hl!=10):\n",
        "      print(\"Opcion invalida!\")\n",
        "      input(\"Presiona enter para continuar\"+ \"\\n\")\n",
        "      hl = 1"
      ],
      "metadata": {
        "id": "3BQA9SAfoehT"
      },
      "execution_count": null,
      "outputs": []
    },
    {
      "cell_type": "markdown",
      "source": [
        "Funcion que contiene categoria de Masa"
      ],
      "metadata": {
        "id": "Xi35tykeogxN"
      }
    },
    {
      "cell_type": "code",
      "source": [
        "def menuMasa():\n",
        "  mm=1\n",
        "  while(mm==1):\n",
        "    print(\"CONVERSOR DE MASA\")\n",
        "    print(\"1-) Libras a Kilogramos\")\n",
        "    print(\"2-) Kilogramos a Libras\")\n",
        "    print(\"3-) Libras a Gramos\")\n",
        "    print(\"4-) Gramos a Libras\")\n",
        "    print(\"5-) Libras a Onzas\")\n",
        "    print(\"6-) Onzas a Libras\")\n",
        "    print(\"7-) Libras a Miligramos\")\n",
        "    print(\"8-) Miligramos a Libras\")\n",
        "    print(\"9-) Libras a Microgramos\")\n",
        "    print(\"10-) Microgramos a Libras\")\n",
        "    print(\"0-) Regresar\")\n",
        "    print(\"\")\n",
        "    hl=int(input(\"Elija una opcion \"+ \"\\n\"))\n",
        "    if hl==1:\n",
        "        masa1=int(input(\"Cantidad de Libras: \"))\n",
        "        v1=masa1/2.205\n",
        "        print (\"Kilogramos = \", v1)\n",
        "        input(\"Presiona enter para continuar\"+ \"\\n\")\n",
        "        mm=1\n",
        "    if hl==2:\n",
        "        masa2=float(input(\"Cantidad de Kilogramos: \"))\n",
        "        v2=masa2*2.205\n",
        "        print(\"Libras = \", v2)\n",
        "        input(\"Presiona enter para continuar\"+ \"\\n\")\n",
        "        mm=1\n",
        "    if hl==3:\n",
        "        masa3=int(input(\"Cantidad de Libras: \"))\n",
        "        v3=masa3*453.6\n",
        "        print(\"Gramos = \", v3)\n",
        "        input(\"Presiona enter para continuar\"+ \"\\n\")\n",
        "        mm=1\n",
        "    if hl==4:\n",
        "        masa4=int(input(\"Cantidad de Gramos: \"))\n",
        "        v4=masa4/453.6\n",
        "        print(\"Libras = \", v4)\n",
        "        input(\"Presiona enter para continuar\"+ \"\\n\")\n",
        "        mm=1\n",
        "    if hl==5:\n",
        "        masa5=int(input(\"Cantidad de Libras: \"))\n",
        "        v5=masa5*16\n",
        "        print(\"Onzas = \", v5)\n",
        "        input(\"Presiona enter para continuar\"+ \"\\n\")\n",
        "        mm=1\n",
        "    if hl==6:\n",
        "        masa6=int(input(\"Cantidad de Onzas: \"))\n",
        "        v6=masa6/16\n",
        "        print(\"Libras = \", v6)\n",
        "        input(\"Presiona enter para continuar\"+ \"\\n\")\n",
        "        mm=1\n",
        "    if hl==7:\n",
        "        masa7=int(input(\"Cantidad de Libras: \"))\n",
        "        v7=masa7*453600\n",
        "        print(\"Miligramos = \", v7)\n",
        "        input(\"Presiona enter para continuar\"+ \"\\n\")\n",
        "        mm=1\n",
        "    if hl==8:\n",
        "        masa8=int(input(\"Cantidad de Miligramos: \"))\n",
        "        v8=masa8/453600\n",
        "        print(\"Libras = \", v8)\n",
        "        input(\"Presiona enter para continuar\"+ \"\\n\")\n",
        "        mm=1\n",
        "    if hl==9:\n",
        "        masa9=int(input(\"Cantidad de Libras: \"))\n",
        "        v9=masa9*4.536e+8\n",
        "        print(\"Microgramos = \", v9)\n",
        "        input(\"Presiona enter para continuar\"+ \"\\n\")\n",
        "        mm=1\n",
        "    if hl==10:\n",
        "        masa10=int(input(\"Cantidad de Microgramos: \"))\n",
        "        v10=masa10/4.536e+8\n",
        "        print(\"Libras = \", v10)\n",
        "        input(\"Presiona enter para continuar\"+ \"\\n\")\n",
        "        mm=1\n",
        "    if hl==0:\n",
        "      mm=0\n",
        "    if (hl!=0 and hl!=1 and hl!=2 and hl!=3 and hl!=4 and hl!=5 and hl!=6 and hl!=7 and hl!=8 and hl!=9 and hl!=10):\n",
        "      print(\"Opcion invalida!\")\n",
        "      input(\"Presiona enter para continuar\"+ \"\\n\")\n",
        "      hl = 1\n",
        "\n"
      ],
      "metadata": {
        "id": "fYJO1Dsaoi-G"
      },
      "execution_count": null,
      "outputs": []
    },
    {
      "cell_type": "markdown",
      "source": [
        "Funcion que contiene categoria de Almacenamiento"
      ],
      "metadata": {
        "id": "CELNbzNgr3yv"
      }
    },
    {
      "cell_type": "code",
      "source": [
        "def menuAlmacen():\n",
        "  ma=1\n",
        "  while(ma==1):\n",
        "    print(\"CONVERSOR DE ALMACENAMIENTO\")\n",
        "    print(\"1-) Byte a Kilobyte\")\n",
        "    print(\"2-) Kilobyte a Byte\")\n",
        "    print(\"3-) Megabyte a Gigabyte\")\n",
        "    print(\"4-) Gigabyte a Megabyte\")\n",
        "    print(\"5-) Petabyte a Terabyte\")\n",
        "    print(\"6-) Terabyte a Petabyte\")\n",
        "    print(\"7-) Gigabyte a Terabit\")\n",
        "    print(\"8-) Terabit a Gigabyte\")\n",
        "    print(\"9-) Gigabyte a Petabit\")\n",
        "    print(\"10-) Petabit a Terabit\")\n",
        "    print(\"0-) Regresar\")\n",
        "    print(\"\")\n",
        "    hl=int(input(\"Elija una opcion \"+ \"\\n\"))\n",
        "    if hl==1:\n",
        "        mon1=int(input(\"Cantidad de Byte: \"))\n",
        "        v1=mon1/1000\n",
        "        print (\"Kilobytes = \", v1)\n",
        "        input(\"Presiona enter para continuar\"+ \"\\n\")\n",
        "        ma=1\n",
        "    if hl==2:\n",
        "        mon2=float(input(\"Cantidad de Kilobyte: \"))\n",
        "        v2=mon2*1000\n",
        "        print(\"Byte = \", v2)\n",
        "        input(\"Presiona enter para continuar\"+ \"\\n\")\n",
        "        ma=1\n",
        "    if hl==3:\n",
        "        mon3=int(input(\"Cantidad de Megabyte: \"))\n",
        "        v3=mon3*1000\n",
        "        print(\"Gigabyte = \", v3)\n",
        "        input(\"Presiona enter para continuar\"+ \"\\n\")\n",
        "        ma=1\n",
        "    if hl==4:\n",
        "        mon4=int(input(\"Cantidad de Gigabyte: \"))\n",
        "        v4=mon4*1000\n",
        "        print(\"Megabyte = \", v4)\n",
        "        input(\"Presiona enter para continuar\"+ \"\\n\")\n",
        "        ma=1\n",
        "    if hl==5:\n",
        "        mon5=int(input(\"Cantidad de Petabyte: \"))\n",
        "        v5=mon5*1000\n",
        "        print(\"Terabyte = \", v5)\n",
        "        input(\"Presiona enter para continuar\"+ \"\\n\")\n",
        "        ma=1\n",
        "    if hl==6:\n",
        "        mon6=int(input(\"Cantidad de Terabyte: \"))\n",
        "        v6=mon6*1000\n",
        "        print(\"Petabyte = \", v6)\n",
        "        input(\"Presiona enter para continuar\"+ \"\\n\")\n",
        "        ma=1\n",
        "    if hl==7:\n",
        "        mon7=int(input(\"Cantidad de Gigabyte: \"))\n",
        "        v7=mon7/125\n",
        "        print(\"Terabit = \", v7)\n",
        "        input(\"Presiona enter para continuar\"+ \"\\n\")\n",
        "        ma=1\n",
        "    if hl==8:\n",
        "        mon8=int(input(\"Cantidad de Terabit: \"))\n",
        "        v8=mon8*125\n",
        "        print(\"Gigabyte = \", v8)\n",
        "        input(\"Presiona enter para continuar\"+ \"\\n\")\n",
        "        ma=1\n",
        "    if hl==9:\n",
        "        mon9=int(input(\"Cantidad de Gigabyte: \"))\n",
        "        v9=mon9/125000\n",
        "        print(\"Petabit = \", v9)\n",
        "        input(\"Presiona enter para continuar\"+ \"\\n\")\n",
        "        ma=1\n",
        "    if hl==10:\n",
        "        mon10=int(input(\"Cantidad de Petabit: \"))\n",
        "        v10=mon10*1000\n",
        "        print(\"Terabit = \", v10)\n",
        "        input(\"Presiona enter para continuar\"+ \"\\n\")\n",
        "        ma=1\n",
        "    if hl==0:\n",
        "      ma=0\n",
        "    if (hl!=0 and hl!=1 and hl!=2 and hl!=3 and hl!=4 and hl!=5 and hl!=6 and hl!=7 and hl!=8 and hl!=9 and hl!=10):\n",
        "      print(\"Opcion invalida!\")\n",
        "      input(\"Presiona enter para continuar\"+ \"\\n\")\n",
        "      hl = 1"
      ],
      "metadata": {
        "id": "lnyMRnP4r-eF"
      },
      "execution_count": null,
      "outputs": []
    },
    {
      "cell_type": "markdown",
      "source": [
        "Funcion que contiene categoria de Tiempo"
      ],
      "metadata": {
        "id": "uFOcn0JYwQni"
      }
    },
    {
      "cell_type": "code",
      "source": [
        "def menuTiempo():\n",
        "  mt=1\n",
        "\n",
        "  while(mt==1):\n",
        "    print(\"CONVERSOR DE TIEMPO\")\n",
        "    print(\"1-) Dia a Segundos\")\n",
        "    print(\"2-) Dia a Minutos\")\n",
        "    print(\"3-) Dia a Semana\")\n",
        "    print(\"4-) Dia a Mes\")\n",
        "    print(\"5-) Dia a Años\")\n",
        "    print(\"6-) Dia a Decada\")\n",
        "    print(\"7-) Dia a Siglo\")\n",
        "    print(\"8-) Dia a Horas\")\n",
        "    print(\"9-) Dia a Milisegundos\")\n",
        "    print(\"10-) Dia a Microsegundos\")\n",
        "    print(\"0-) Regresar\")\n",
        "    print(\"\")\n",
        "    hl=int(input(\"Elija una opcion \"+ \"\\n\"))\n",
        "    if hl==1:\n",
        "        mon1=int(input(\"Cantidad de Dia: \"))\n",
        "        v1=mon1*86400\n",
        "        print (\"Segundos = \", v1)\n",
        "        input(\"Presiona enter para continuar\"+ \"\\n\")\n",
        "        mt=1\n",
        "    if hl==2:\n",
        "        mon2=float(input(\"Cantidad de Dia: \"))\n",
        "        v2=mon2*1440\n",
        "        print(\"Minutos = \", v2)\n",
        "        input(\"Presiona enter para continuar\"+ \"\\n\")\n",
        "        mt=1\n",
        "    if hl==3:\n",
        "        mon3=int(input(\"Cantidad de Dia: \"))\n",
        "        v3=mon3/7\n",
        "        print(\"Semana = \", v3)\n",
        "        input(\"Presiona enter para continuar\"+ \"\\n\")\n",
        "        mt=1\n",
        "    if hl==4:\n",
        "        mon4=int(input(\"Cantidad de Dia: \"))\n",
        "        v4=mon4/30.417\n",
        "        print(\"Mes = \", v4)\n",
        "        input(\"Presiona enter para continuar\"+ \"\\n\")\n",
        "        mt=1\n",
        "    if hl==5:\n",
        "        mon5=int(input(\"Cantidad de Dia: \"))\n",
        "        v5=mon5/365\n",
        "        print(\"Años = \", v5)\n",
        "        input(\"Presiona enter para continuar\"+ \"\\n\")\n",
        "        mt=1\n",
        "    if hl==6:\n",
        "        mon6=int(input(\"Cantidad de Dia: \"))\n",
        "        v6=mon6/3650\n",
        "        print(\"Decada = \", v6)\n",
        "        input(\"Presiona enter para continuar\"+ \"\\n\")\n",
        "        mt=1\n",
        "    if hl==7:\n",
        "        mon7=int(input(\"Cantidad de Dia: \"))\n",
        "        v7=mon7/36500\n",
        "        print(\"Siglo = \", v7)\n",
        "        input(\"Presiona enter para continuar\"+ \"\\n\")\n",
        "        mt=1\n",
        "    if hl==8:\n",
        "        mon8=int(input(\"Cantidad de Dia: \"))\n",
        "        v8=mon8*24\n",
        "        print(\"Horas = \", v8)\n",
        "        input(\"Presiona enter para continuar\"+ \"\\n\")\n",
        "        mt=1\n",
        "    if hl==9:\n",
        "        mon9=int(input(\"Cantidad de Dia: \"))\n",
        "        v9=mon9*8.64e+7\n",
        "        print(\"Milisegundos = \", v9)\n",
        "        input(\"Presiona enter para continuar\"+ \"\\n\")\n",
        "        mt=1\n",
        "    if hl==10:\n",
        "        mon10=int(input(\"Cantidad de Dia: \"))\n",
        "        v10=mon10*8.64e+10\n",
        "        print(\"Microsegundos = \", v10)\n",
        "        input(\"Presiona enter para continuar\"+ \"\\n\")\n",
        "        mt=1\n",
        "    if hl==0:\n",
        "        mt=0\n",
        "    if (hl!=0 and hl!=1 and hl!=2 and hl!=3 and hl!=4 and hl!=5 and hl!=6 and hl!=7 and hl!=8 and hl!=9 and hl!=10):\n",
        "      print(\"Opcion invalida!\")\n",
        "      input(\"Presiona enter para continuar\"+ \"\\n\")\n",
        "      hl = 1"
      ],
      "metadata": {
        "id": "eoZIsWySwSUN"
      },
      "execution_count": null,
      "outputs": []
    },
    {
      "cell_type": "markdown",
      "source": [
        "Funcion que contiene categoria de Volumen"
      ],
      "metadata": {
        "id": "Y1GBDD3KxvJv"
      }
    },
    {
      "cell_type": "code",
      "source": [
        "def menuVolumen():\n",
        "  mv=1\n",
        "  while(mv==1):\n",
        "    print(\"CONVERSOR DE VOLUMEN\")\n",
        "    print(\"1-) Litros a Mililitros\")\n",
        "    print(\"2-) Mililitros a Litros\")\n",
        "    print(\"3-) Litros a Galon Imperial\")\n",
        "    print(\"4-) Galon Imperial a litros\")\n",
        "    print(\"5-) Litros a Metros Cubicos\")\n",
        "    print(\"6-) Metros Cubicos a Litros\")\n",
        "    print(\"7-) Galon Imperial a Metros Cubicos\")\n",
        "    print(\"8-) Metros Cubicos a Galon Imperial\")\n",
        "    print(\"9-) Litros a Pies cubicos\")\n",
        "    print(\"10-) Pies Cubicos a Litros\")\n",
        "    print(\"0-) Regresar\")\n",
        "    print(\"\")\n",
        "    hl=int(input(\"Elija una opcion \"+ \"\\n\"))\n",
        "    if hl==1:\n",
        "        vol1=int(input(\"Cantidad de Litros: \"))\n",
        "        v1=vol1*1000\n",
        "        print (\"Mililitros = \", v1)\n",
        "        input(\"Presiona enter para continuar\"+ \"\\n\")\n",
        "        mv=1\n",
        "    if hl==2:\n",
        "        vol2=float(input(\"Cantidad Litros: \"))\n",
        "        v2=vol2/1000\n",
        "        print(\"Litros = \", v2)\n",
        "        input(\"Presiona enter para continuar\"+ \"\\n\")\n",
        "        mv=1\n",
        "    if hl==3:\n",
        "        vol3=int(input(\"Cantidad Litros: \"))\n",
        "        v3=vol3/4.546\n",
        "        print(\"Galon Imperial = \", v3)\n",
        "        input(\"Presiona enter para continuar\"+ \"\\n\")\n",
        "        mv=1\n",
        "    if hl==4:\n",
        "        vol4=int(input(\"Cantidad Galones Imperiales: \"))\n",
        "        v4=vol4*4.546\n",
        "        print(\"Litros = \", v4)\n",
        "        input(\"Presiona enter para continuar\"+ \"\\n\")\n",
        "        mv=1\n",
        "    if hl==5:\n",
        "        vol5=int(input(\"Cantidad de Litros: \"))\n",
        "        v5=vol5/1000\n",
        "        print(\"Metros Cubicos = \", v5)\n",
        "        input(\"Presiona enter para continuar\"+ \"\\n\")\n",
        "        mv=1\n",
        "    if hl==6:\n",
        "        vol6=int(input(\"Cantidad Metro Cubicos: \"))\n",
        "        v6=vol6*1000\n",
        "        print(\"Litros = \", v6)\n",
        "        input(\"Presiona enter para continuar\"+ \"\\n\")\n",
        "        mv=1\n",
        "    if hl==7:\n",
        "        vol7=int(input(\"Cantidad Galon Imperial \"))\n",
        "        v7=vol7/220\n",
        "        print(\"Metros Cubicos = \", v7)\n",
        "        input(\"Presiona enter para continuar\"+ \"\\n\")\n",
        "        mv=1\n",
        "    if hl==8:\n",
        "        vol8=int(input(\"Cantidad Metros Cubicos \"))\n",
        "        v8=vol8*220\n",
        "        print(\"Galones Imperiales = \", v8)\n",
        "        input(\"Presiona enter para continuar\"+ \"\\n\")\n",
        "        mv=1\n",
        "    if hl==9:\n",
        "        vol9=int(input(\"Cantidad Litros \"))\n",
        "        v9=vol9/28.317\n",
        "        print(\"Pies Cubicos = \", v9)\n",
        "        input(\"Presiona enter para continuar\"+ \"\\n\")\n",
        "        mv=1\n",
        "    if hl==10:\n",
        "        vol10=int(input(\"Cantidad de Pies Cubicos: \"))\n",
        "        v10=vol10*28.317\n",
        "        print(\"Litros = \", v10)\n",
        "        input(\"Presiona enter para continuar\"+ \"\\n\")\n",
        "        mv=1\n",
        "    if (hl==0):\n",
        "      mv=0\n",
        "    if (hl!=0 and hl!=1 and hl!=2 and hl!=3 and hl!=4 and hl!=5 and hl!=6 and hl!=7 and hl!=8 and hl!=9 and hl!=10):\n",
        "      print(\"Opcion invalida!\")\n",
        "      input(\"Presiona enter para continuar\"+ \"\\n\")\n",
        "      hl = 1"
      ],
      "metadata": {
        "id": "NytEnisoxxv-"
      },
      "execution_count": null,
      "outputs": []
    },
    {
      "cell_type": "markdown",
      "source": [
        "Funcion que contiene categoria de Area"
      ],
      "metadata": {
        "id": "3_gwQKBt6t_L"
      }
    },
    {
      "cell_type": "code",
      "source": [
        "def menuArea():\n",
        "  mar=1\n",
        "  while(mar==1):\n",
        "    print(\"CONVERSOR DE AREA\")\n",
        "    print(\"1-) Metro Cuadrado a Acre\")\n",
        "    print(\"2-) Acre a Metro Cuadrado\")\n",
        "    print(\"3-) Metro Cuadrado a Hectarea\")\n",
        "    print(\"4-) Hectarea a Metro Cuadrado\")\n",
        "    print(\"5-) Hecteras a Acres\")\n",
        "    print(\"6-) Acres a Hectareas\")\n",
        "    print(\"7-) Metro Cuadrado a Pulgada Cuadrada\")\n",
        "    print(\"8-) Pulgada Cuadrada a Metro Cuadrado\")\n",
        "    print(\"9-) Metro Cuadrado a Pies Cuadrados\")\n",
        "    print(\"10-) Pie Cuadrado a Metro Cuadrado\")\n",
        "    print(\"0-) Regresar\")\n",
        "    print(\"\")\n",
        "    hl=int(input(\"Elija una opcion \"+ \"\\n\"))\n",
        "    if hl==1:\n",
        "        are1=int(input(\"Cantidad de Metros Cuadrados: \"))\n",
        "        v1=are1/4047\n",
        "        print (\"Acres = \", v1)\n",
        "        input(\"Presiona enter para continuar\"+ \"\\n\")\n",
        "        mar=1\n",
        "    if hl==2:\n",
        "        are2=float(input(\"Cantidadde  Acres: \"))\n",
        "        v2=are2*4047\n",
        "        print(\"Metros Cuadrados = \", v2)\n",
        "        input(\"Presiona enter para continuar\"+ \"\\n\")\n",
        "        mar=1\n",
        "    if hl==3:\n",
        "        are3=int(input(\"Cantidad de Metros Cuadrados: \"))\n",
        "        v3=are3/10000\n",
        "        print(\"Hectareas = \", v3)\n",
        "        input(\"Presiona enter para continuar\"+ \"\\n\")\n",
        "        mar=1\n",
        "    if hl==4:\n",
        "        are4=int(input(\"Cantidad de Hectareas: \"))\n",
        "        v4=are4*10000\n",
        "        print(\"Metros Cuadrados = \", v4)\n",
        "        input(\"Presiona enter para continuar\"+ \"\\n\")\n",
        "        mar=1\n",
        "    if hl==5:\n",
        "        are5=int(input(\"Cantidad de Hectarias: \"))\n",
        "        v5=are5*2.471\n",
        "        print(\"Acres = \", v5)\n",
        "        input(\"Presiona enter para continuar\"+ \"\\n\")\n",
        "        mar=1\n",
        "    if hl==6:\n",
        "        are6=int(input(\"Cantidad de Acres: \"))\n",
        "        v6=are6/2.471\n",
        "        print(\"Pesos Mexicanos = \", v6)\n",
        "        input(\"Presiona enter para continuar\"+ \"\\n\")\n",
        "        mar=1\n",
        "    if hl==7:\n",
        "        are7=int(input(\"Cantidad de Metros Cuadrados: \"))\n",
        "        v7=are7*1550\n",
        "        print(\"Pulgada Cuadrada = \", v7)\n",
        "        input(\"Presiona enter para continuar\"+ \"\\n\")\n",
        "        mar=1\n",
        "    if hl==8:\n",
        "        are8=int(input(\"Cantidad de Pulgadas Cuadradas: \"))\n",
        "        v8=are8/1550\n",
        "        print(\"Metros Cuadrados = \", v8)\n",
        "        input(\"Presiona enter para continuar\"+ \"\\n\")\n",
        "        mar=1\n",
        "    if hl==9:\n",
        "        are9=int(input(\"Cantidad de Metros Cuadrados: \"))\n",
        "        v9=are9*10.764\n",
        "        print(\"Pies Cuadrados = \", v9)\n",
        "        input(\"Presiona enter para continuar\"+ \"\\n\")\n",
        "        mar=1\n",
        "    if hl==10:\n",
        "        are10=int(input(\"Cantidad de Pies Cuadrados:\"))\n",
        "        v10=are10/10.764\n",
        "        print(\"Metros Cuadrados = \", v10)\n",
        "        input(\"Presiona enter para continuar\"+ \"\\n\")\n",
        "        mar=1\n",
        "    if hl==0:\n",
        "      mar=0\n",
        "\n",
        "    if (hl!=0 and hl!=1 and hl!=2 and hl!=3 and hl!=4 and hl!=5 and hl!=6 and hl!=7 and hl!=8 and hl!=9 and hl!=10):\n",
        "      print(\"Opcion invalida!\")\n",
        "      input(\"Presiona enter para continuar\"+ \"\\n\")\n",
        "      hl = 1"
      ],
      "metadata": {
        "id": "mkVuh1Aq6uyy"
      },
      "execution_count": null,
      "outputs": []
    },
    {
      "cell_type": "markdown",
      "source": [
        "**5. CONVERSOR PROPIO**"
      ],
      "metadata": {
        "id": "OEa1zdKUhe-V"
      }
    },
    {
      "cell_type": "code",
      "source": [
        "def conPropio():\n",
        "  mcp = 1\n",
        "  while(mcp==1):\n",
        "    print(\"\\n\")\n",
        "    print(\"1-) Caja a Unidad\")\n",
        "    print(\"2-) Unidad a Caja\")\n",
        "    print(\"3-) Saco a Libra\")\n",
        "    print(\"4-) Libra a Saco\")\n",
        "    print(\"5-) Fardo a Unidad\")\n",
        "    print(\"6-) Unidad a Fardo\")\n",
        "    print(\"0-) Regresar\")\n",
        "    print(\"\")\n",
        "    hl=int(input(\"Coloque aqui opcion \"))\n",
        "    if(hl!=0):\n",
        "      print(\"\\n\")\n",
        "    if hl==1:\n",
        "        pro1=int(input(\"Cantidad de Cajas: \"))\n",
        "        v1=pro1*25\n",
        "        print (\"Unidades = \", v1)\n",
        "        input(\"Presiona enter para continuar\"+ \"\\n\")\n",
        "        mcp = 1\n",
        "    if hl==2:\n",
        "        pro2=float(input(\"Cantidad de Unidades: \"))\n",
        "        v2=pro2/25\n",
        "        print(\"Caja = \", v2)\n",
        "        input(\"Presiona enter para continuar\"+ \"\\n\")\n",
        "        mcp = 1\n",
        "    if hl==3:\n",
        "        pro3=int(input(\"Cantidad de Saco: \"))\n",
        "        v3=pro3*50\n",
        "        print(\"Libras = \", v3)\n",
        "        input(\"Presiona enter para continuar\"+ \"\\n\")\n",
        "        mcp = 1\n",
        "    if hl==4:\n",
        "        pro4=int(input(\"Cantidad de Libras: \"))\n",
        "        v4=pro4/50\n",
        "        print(\"Sacos = \", v4)\n",
        "        input(\"Presiona enter para continuar\"+ \"\\n\")\n",
        "        mcp = 1\n",
        "    if hl==5:\n",
        "        pro5=int(input(\"Cantidad de Fardos: \"))\n",
        "        v5=pro5*5\n",
        "        print(\"Unidades = \", v5)\n",
        "        input(\"Presiona enter para continuar\"+ \"\\n\")\n",
        "        mcp = 1\n",
        "    if hl==6:\n",
        "        pro6=int(input(\"Cantidad de Unidades: \"))\n",
        "        v6=pro6/5\n",
        "        print(\"Fardos = \", v6)\n",
        "        input(\"Presiona enter para continuar\"+ \"\\n\")\n",
        "        mcp = 1\n",
        "    if hl==0:\n",
        "        mcp = 0\n",
        "    if (hl!=0 and hl!=1 and hl!=3 and hl!=4 and hl!=5 and hl!=6):\n",
        "      print(\"Opcion invalida!\")\n",
        "      input(\"Presiona enter para continuar\"+ \"\\n\")\n",
        "      hl = 1\n",
        "\n",
        "  print(\"\\n\")"
      ],
      "metadata": {
        "id": "Onelt3rOhlbv"
      },
      "execution_count": null,
      "outputs": []
    },
    {
      "cell_type": "markdown",
      "source": [
        "**MENU PRINCIPAL (Menu a Ejecutar)**"
      ],
      "metadata": {
        "id": "U7HGWCNv1QPk"
      }
    },
    {
      "cell_type": "markdown",
      "source": [
        "Menu desde donde se accede a cada uno de los ejercicios."
      ],
      "metadata": {
        "id": "uvhkcznm1RsA"
      }
    },
    {
      "cell_type": "code",
      "source": [
        "mw = 1\n",
        "while (mw == 1):\n",
        "  print(\"Bienvenido!\")\n",
        "  print(\"1. Ejercicio Deducciones por Ley\")\n",
        "  print(\"2. Ejercicio Metros Consumidos de Agua Potable\")\n",
        "  print(\"3. Ejercicio Tabla de Meses Acumulados\")\n",
        "  print(\"4. Ejercicio Conversores\")\n",
        "  print(\"5. Conversor Propio\")\n",
        "  print(\"0. Salir\")\n",
        "  opcion = int(input(\"Ingrese el Numero de Item a Evaluar: \"+ \"\\n\"))\n",
        "\n",
        "  if (opcion==1):\n",
        "    deducciones()\n",
        "    input(\"Presiona enter para continuar\"+ \"\\n\")\n",
        "    mw = 1\n",
        "  if (opcion==2):\n",
        "    maPotable()\n",
        "    input(\"Presiona enter para continuar\"+ \"\\n\")\n",
        "    mw = 1\n",
        "  if (opcion==3):\n",
        "    calcularNmeses()\n",
        "    input(\"Presiona enter para continuar\"+ \"\\n\")\n",
        "    mw = 1\n",
        "  if (opcion==4):\n",
        "    menuConversores()\n",
        "    mw = 1\n",
        "  if (opcion==5):\n",
        "    conPropio()\n",
        "    mw = 1\n",
        "  if (opcion==0):\n",
        "    print(\"Gracias por Usar, Vuelve Pronto!\")\n",
        "    mw = 0\n",
        "  if (opcion!=0 and opcion!=1 and opcion!=2 and opcion!=3 and opcion!=4 and opcion!=5):\n",
        "    print(\"Opcion invalida!\")\n",
        "    input(\"Presiona enter para continuar\"+ \"\\n\")\n",
        "    mw = 1\n",
        "\n"
      ],
      "metadata": {
        "id": "_CORil751TxG"
      },
      "execution_count": null,
      "outputs": []
    },
    {
      "cell_type": "markdown",
      "source": [
        "# PRACTICA 4 VIERNES [18/08]"
      ],
      "metadata": {
        "id": "uf90VRWVJekj"
      }
    },
    {
      "cell_type": "markdown",
      "source": [
        "**Escribir** un programa que pida la nota de un examen (0,10), e imprimir en pantalla la calificacion en formato \"suspenso\" si la nota es menor a 5, \"**Aprobado**\" si es entre 5 inclusive, y 7 sin incluir, \"Notable\" si esta entre 7 inclusive y 9 sin incluir, \"sobresaliente\" sie esta entre 9 inclusive y 10 sin incruir y \"Honorable\" si es 10 **texto en negrita**"
      ],
      "metadata": {
        "id": "o10IffVmJsE6"
      }
    },
    {
      "cell_type": "code",
      "source": [
        "nota = int(input(\"Ingrese la Nota \"))\n",
        "\n",
        "if (nota <5 and nota==0):\n",
        "  print (\"Suspendido\")\n",
        "if (nota == 5 or nota ==6):\n",
        "  print(\"Aprobado\")\n",
        "if (nota ==7 or nota==8):\n",
        "  print(\"Notable\")\n",
        "if (nota ==9):\n",
        "  print(\"sobresaliente\")\n",
        "if(nota ==10):\n",
        "  print(\"Honorable\")"
      ],
      "metadata": {
        "colab": {
          "base_uri": "https://localhost:8080/"
        },
        "id": "GffpL9lgJeCb",
        "outputId": "39fe95a5-c83f-4a40-c247-03cf961cff6b"
      },
      "execution_count": null,
      "outputs": [
        {
          "output_type": "stream",
          "name": "stdout",
          "text": [
            "Ingrese la Nota 5\n",
            "Aprobado\n"
          ]
        }
      ]
    },
    {
      "cell_type": "markdown",
      "source": [
        "Ejemplo"
      ],
      "metadata": {
        "id": "y8wOJ-tFRGnU"
      }
    },
    {
      "cell_type": "code",
      "source": [
        "nota = float (input(\"Nota:\"))\n",
        "if(nota <0 or nota>10):\n",
        "  print(\"Nota Invalida\")\n",
        "elif(nota<5):\n",
        "  print(\"suspenso\")\n",
        "elif(nota<7):\n",
        "  print(\"Aprobado\")\n",
        "elif(nota<9):\n",
        "  print(\"Notable\")\n",
        "elif(nota<10):\n",
        "  print(\"sobresaliente\")\n",
        "else:\n",
        "  print(\"Honorable\")"
      ],
      "metadata": {
        "colab": {
          "base_uri": "https://localhost:8080/"
        },
        "id": "NmZeyKUqRFvs",
        "outputId": "48b8261c-9841-4a58-9d6f-005258e20d10"
      },
      "execution_count": null,
      "outputs": [
        {
          "output_type": "stream",
          "name": "stdout",
          "text": [
            "Nota:9\n",
            "sobresaliente\n"
          ]
        }
      ]
    },
    {
      "cell_type": "markdown",
      "source": [
        "# Fibonacci"
      ],
      "metadata": {
        "id": "-oFjnUG6bYtx"
      }
    },
    {
      "cell_type": "code",
      "source": [
        "limit = int(input(\"Limit:\"))\n",
        "a=0\n",
        "b=1\n",
        "c=0\n",
        "while c<limit:\n",
        "  c=a+b\n",
        "  print(a,\"+\",b,\"+\",c)\n",
        "  b=a\n",
        "  a=c"
      ],
      "metadata": {
        "colab": {
          "base_uri": "https://localhost:8080/"
        },
        "id": "NnJ6ITGBbZQr",
        "outputId": "7635c8c2-02ad-40d6-d192-ba550a3c63a9"
      },
      "execution_count": null,
      "outputs": [
        {
          "output_type": "stream",
          "name": "stdout",
          "text": [
            "Limit:5\n",
            "0 + 1 + 1\n",
            "1 + 0 + 1\n",
            "1 + 1 + 2\n",
            "2 + 1 + 3\n",
            "3 + 2 + 5\n"
          ]
        }
      ]
    },
    {
      "cell_type": "markdown",
      "source": [
        "# Examen Parcial"
      ],
      "metadata": {
        "id": "6HkSgLeaPHtK"
      }
    },
    {
      "cell_type": "markdown",
      "source": [
        "Conversor de Area(Superficie)"
      ],
      "metadata": {
        "id": "pZPryTN7PMBR"
      }
    },
    {
      "cell_type": "code",
      "source": [
        "con_areas = {\n",
        "    'Metro cuadrado': 1.0,\n",
        "    'Pie cuadrado': 10.7639,\n",
        "    'Vara cuadrada': 25.29,\n",
        "    'Yarda cuadrada': 1.19599,\n",
        "    'Tareas': 0.002285714285714286,\n",
        "    'Manzana': 0.000143327,\n",
        "    'Hectarea': 0.0001,\n",
        "}\n",
        "def C_area(valor, PU, SU):\n",
        "    if PU in con_areas and SU in con_areas:\n",
        "        factor_conversion = con_areas[PU] / con_areas[SU]\n",
        "        resultado = valor * factor_conversion\n",
        "        return resultado\n",
        "    else:\n",
        "        return \"área no válidas\"\n",
        "\n",
        "\n",
        "def main():\n",
        "    print(\"Conversor de Área (Superficie)\")\n",
        "    print(\"Unidades disponibles:\")\n",
        "    for unidad in con_areas:\n",
        "        print(f\"- {unidad}\")\n",
        "\n",
        "    PU = input(\"Convertir de : \")\n",
        "    SU = input(\"a: \")\n",
        "\n",
        "    try:\n",
        "        valor = float(input(\"Valor a convertir: \"))\n",
        "        resultado = C_area(valor, PU, SU)\n",
        "        if resultado != \"Unidades de área no válidas\":\n",
        "            print(f\"{valor} {PU} equivale a {resultado} {SU}\")\n",
        "        else:\n",
        "            print(resultado)\n",
        "    except ValueError:\n",
        "        print(\"Error introduce un valor valido.\")\n",
        "\n",
        "if __name__ == \"__main__\":\n",
        "    main()"
      ],
      "metadata": {
        "colab": {
          "base_uri": "https://localhost:8080/"
        },
        "id": "D-Pv1giEaQOZ",
        "outputId": "2a68474e-5c3e-4667-d31b-5bc9c59f2114"
      },
      "execution_count": null,
      "outputs": [
        {
          "output_type": "stream",
          "name": "stdout",
          "text": [
            "Conversor de Área (Superficie)\n",
            "Unidades disponibles:\n",
            "- Metro cuadrado\n",
            "- Pie cuadrado\n",
            "- Vara cuadrada\n",
            "- Yarda cuadrada\n",
            "- Tareas\n",
            "- Manzana\n",
            "- Hectarea\n",
            "Convertir de : Manzana\n",
            "a: Tareas\n",
            "Valor a convertir: 1\n",
            "1.0 Manzana equivale a 0.06270556249999999 Tareas\n"
          ]
        }
      ]
    }
  ]
}